{
 "cells": [
  {
   "cell_type": "markdown",
   "id": "c365c07b-fece-4682-a861-a8d69028cf73",
   "metadata": {},
   "source": [
    "#### Load Libraries"
   ]
  },
  {
   "cell_type": "code",
   "execution_count": 1,
   "id": "6bc2c9ee-63a4-4d93-8416-0c01547c8baf",
   "metadata": {},
   "outputs": [],
   "source": [
    "import numpy as np\n",
    "import pandas as pd\n",
    "import matplotlib.pyplot as plt\n",
    "import seaborn as sns\n",
    "import glob"
   ]
  },
  {
   "cell_type": "markdown",
   "id": "009cad60-5c49-4c4b-9501-ae01f7f5fa7e",
   "metadata": {},
   "source": [
    "#### Reading Dataset"
   ]
  },
  {
   "cell_type": "markdown",
   "id": "b3c06006-15a9-44e4-92fb-9544b59e2a9d",
   "metadata": {},
   "source": [
    "We have five different youtube files that we need to concatenate into a single file."
   ]
  },
  {
   "cell_type": "code",
   "execution_count": 2,
   "id": "c5cb27f0-851b-45d4-968d-f8d77c6c41c9",
   "metadata": {},
   "outputs": [],
   "source": [
    "files = glob.glob('youtube-dataset/youtube-dataset\\\\*.csv') # To get all files in csv format"
   ]
  },
  {
   "cell_type": "code",
   "execution_count": 3,
   "id": "85c30a2e-2298-40b8-bc32-fa8ee0c03364",
   "metadata": {},
   "outputs": [
    {
     "data": {
      "text/plain": [
       "['youtube-dataset/youtube-dataset\\\\Youtube01.csv',\n",
       " 'youtube-dataset/youtube-dataset\\\\Youtube02.csv',\n",
       " 'youtube-dataset/youtube-dataset\\\\Youtube03.csv',\n",
       " 'youtube-dataset/youtube-dataset\\\\Youtube04.csv',\n",
       " 'youtube-dataset/youtube-dataset\\\\Youtube05.csv']"
      ]
     },
     "execution_count": 3,
     "metadata": {},
     "output_type": "execute_result"
    }
   ],
   "source": [
    "files  # List of the path names"
   ]
  },
  {
   "cell_type": "code",
   "execution_count": 4,
   "id": "acc9d025-bc15-48c3-941c-843375d4c2f0",
   "metadata": {},
   "outputs": [
    {
     "data": {
      "text/html": [
       "<div>\n",
       "<style scoped>\n",
       "    .dataframe tbody tr th:only-of-type {\n",
       "        vertical-align: middle;\n",
       "    }\n",
       "\n",
       "    .dataframe tbody tr th {\n",
       "        vertical-align: top;\n",
       "    }\n",
       "\n",
       "    .dataframe thead th {\n",
       "        text-align: right;\n",
       "    }\n",
       "</style>\n",
       "<table border=\"1\" class=\"dataframe\">\n",
       "  <thead>\n",
       "    <tr style=\"text-align: right;\">\n",
       "      <th></th>\n",
       "      <th>CONTENT</th>\n",
       "      <th>CLASS</th>\n",
       "    </tr>\n",
       "  </thead>\n",
       "  <tbody>\n",
       "    <tr>\n",
       "      <th>0</th>\n",
       "      <td>Huh, anyway check out this you[tube] channel: ...</td>\n",
       "      <td>1</td>\n",
       "    </tr>\n",
       "    <tr>\n",
       "      <th>1</th>\n",
       "      <td>Hey guys check out my new channel and our firs...</td>\n",
       "      <td>1</td>\n",
       "    </tr>\n",
       "    <tr>\n",
       "      <th>2</th>\n",
       "      <td>just for test I have to say murdev.com</td>\n",
       "      <td>1</td>\n",
       "    </tr>\n",
       "    <tr>\n",
       "      <th>3</th>\n",
       "      <td>watch?v=vtaRGgvGtWQ   Check this out .﻿</td>\n",
       "      <td>1</td>\n",
       "    </tr>\n",
       "    <tr>\n",
       "      <th>4</th>\n",
       "      <td>Hey, check out my new website!! This site is a...</td>\n",
       "      <td>1</td>\n",
       "    </tr>\n",
       "  </tbody>\n",
       "</table>\n",
       "</div>"
      ],
      "text/plain": [
       "                                             CONTENT  CLASS\n",
       "0  Huh, anyway check out this you[tube] channel: ...      1\n",
       "1  Hey guys check out my new channel and our firs...      1\n",
       "2             just for test I have to say murdev.com      1\n",
       "3            watch?v=vtaRGgvGtWQ   Check this out .﻿      1\n",
       "4  Hey, check out my new website!! This site is a...      1"
      ]
     },
     "execution_count": 4,
     "metadata": {},
     "output_type": "execute_result"
    }
   ],
   "source": [
    "datasets = []\n",
    "for i in files:  # To pick the file names one by one\n",
    "    datasets.append(pd.read_csv(i).drop(['COMMENT_ID', 'AUTHOR', 'DATE'], axis = 1))\n",
    "    # Reading from all files and dropping the columns that we don't need from each\n",
    "\n",
    "datasets[0].head()   # 0 index is the first csv file"
   ]
  },
  {
   "cell_type": "code",
   "execution_count": 5,
   "id": "8d1ae1bd-5ade-4991-947c-5542299ddce8",
   "metadata": {},
   "outputs": [
    {
     "data": {
      "text/plain": [
       "(list, 5)"
      ]
     },
     "execution_count": 5,
     "metadata": {},
     "output_type": "execute_result"
    }
   ],
   "source": [
    "type(datasets), len(datasets)"
   ]
  },
  {
   "cell_type": "code",
   "execution_count": 6,
   "id": "0294a55c-e81d-4976-b338-c7a1ea65c9b5",
   "metadata": {},
   "outputs": [
    {
     "data": {
      "text/html": [
       "<div>\n",
       "<style scoped>\n",
       "    .dataframe tbody tr th:only-of-type {\n",
       "        vertical-align: middle;\n",
       "    }\n",
       "\n",
       "    .dataframe tbody tr th {\n",
       "        vertical-align: top;\n",
       "    }\n",
       "\n",
       "    .dataframe thead th {\n",
       "        text-align: right;\n",
       "    }\n",
       "</style>\n",
       "<table border=\"1\" class=\"dataframe\">\n",
       "  <thead>\n",
       "    <tr style=\"text-align: right;\">\n",
       "      <th></th>\n",
       "      <th>CONTENT</th>\n",
       "      <th>CLASS</th>\n",
       "    </tr>\n",
       "  </thead>\n",
       "  <tbody>\n",
       "    <tr>\n",
       "      <th>0</th>\n",
       "      <td>Huh, anyway check out this you[tube] channel: ...</td>\n",
       "      <td>1</td>\n",
       "    </tr>\n",
       "    <tr>\n",
       "      <th>1</th>\n",
       "      <td>Hey guys check out my new channel and our firs...</td>\n",
       "      <td>1</td>\n",
       "    </tr>\n",
       "    <tr>\n",
       "      <th>2</th>\n",
       "      <td>just for test I have to say murdev.com</td>\n",
       "      <td>1</td>\n",
       "    </tr>\n",
       "    <tr>\n",
       "      <th>3</th>\n",
       "      <td>watch?v=vtaRGgvGtWQ   Check this out .﻿</td>\n",
       "      <td>1</td>\n",
       "    </tr>\n",
       "    <tr>\n",
       "      <th>4</th>\n",
       "      <td>Hey, check out my new website!! This site is a...</td>\n",
       "      <td>1</td>\n",
       "    </tr>\n",
       "  </tbody>\n",
       "</table>\n",
       "</div>"
      ],
      "text/plain": [
       "                                             CONTENT  CLASS\n",
       "0  Huh, anyway check out this you[tube] channel: ...      1\n",
       "1  Hey guys check out my new channel and our firs...      1\n",
       "2             just for test I have to say murdev.com      1\n",
       "3            watch?v=vtaRGgvGtWQ   Check this out .﻿      1\n",
       "4  Hey, check out my new website!! This site is a...      1"
      ]
     },
     "execution_count": 6,
     "metadata": {},
     "output_type": "execute_result"
    }
   ],
   "source": [
    "# Let's combine all csv files into a one dataframe\n",
    "\n",
    "# First argument is the pandas object we want to concatenate\n",
    "# Second argument is to Concatenate along the horizontal axis\n",
    "# Third argument is to drop the original indexing and enumerate from 0 to n-1\n",
    "df = pd.concat(datasets, axis = 0, ignore_index=True)\n",
    "df.head()"
   ]
  },
  {
   "cell_type": "code",
   "execution_count": 7,
   "id": "3b32386a-3226-46f4-bba8-436b1896fdba",
   "metadata": {},
   "outputs": [
    {
     "data": {
      "text/plain": [
       "(pandas.core.frame.DataFrame, (1955, 2))"
      ]
     },
     "execution_count": 7,
     "metadata": {},
     "output_type": "execute_result"
    }
   ],
   "source": [
    "type(df), df.shape"
   ]
  },
  {
   "cell_type": "markdown",
   "id": "bc9c9bee-1aa5-4fae-9a76-22c5f87a5e59",
   "metadata": {},
   "source": [
    "#### Checking for Nulls"
   ]
  },
  {
   "cell_type": "code",
   "execution_count": 8,
   "id": "d9821299-c227-417c-b875-fc26bf130e4a",
   "metadata": {},
   "outputs": [
    {
     "data": {
      "text/plain": [
       "CONTENT    0\n",
       "CLASS      0\n",
       "dtype: int64"
      ]
     },
     "execution_count": 8,
     "metadata": {},
     "output_type": "execute_result"
    }
   ],
   "source": [
    "df.isna().sum()  # There are no nulls"
   ]
  },
  {
   "cell_type": "markdown",
   "id": "c29416e7-9e77-4f6b-a606-879e9c7b83c5",
   "metadata": {},
   "source": [
    "#### Checking frequency of target class"
   ]
  },
  {
   "cell_type": "code",
   "execution_count": 9,
   "id": "2a9c4adf-eacd-43c8-9c93-808a328d8c5f",
   "metadata": {},
   "outputs": [
    {
     "data": {
      "text/plain": [
       "CLASS\n",
       "1    1004\n",
       "0     951\n",
       "Name: count, dtype: int64"
      ]
     },
     "execution_count": 9,
     "metadata": {},
     "output_type": "execute_result"
    }
   ],
   "source": [
    "df['CLASS'].value_counts()  # 1 is spam and 0 is ham"
   ]
  },
  {
   "cell_type": "markdown",
   "id": "40e3ccd5-94f7-49e9-911a-d34848968073",
   "metadata": {},
   "source": [
    "For the Naive bayes to work optimally, dataset needs to be balanced. Our dataset has roughly the same number of records from each class."
   ]
  },
  {
   "cell_type": "markdown",
   "id": "c183c741-505d-4622-a6ee-3b60ce72b496",
   "metadata": {},
   "source": [
    "#### Understanding CountVectorizer"
   ]
  },
  {
   "cell_type": "markdown",
   "id": "ea35474e-9260-465c-8767-d33d4a1b791a",
   "metadata": {},
   "source": [
    "To process and understand text data in machine learning tasks like spam detection, we often need to convert the raw text into numerical features that models can work with. One of the simplest and most commonly used tools for this is CountVectorizer from the sklearn.feature_extraction.text module.\n",
    "\n",
    "CountVectorizer converts a collection of text documents into a matrix of token (word) counts. This process is often referred to as bag-of-words representation. It performs the following steps:\n",
    "* Tokenization: Splits each text (document) into individual words (tokens).\n",
    "* Vocabulary Building: Collects all unique words across the corpus to create a vocabulary.\n",
    "* Encoding: For each document, counts the frequency of each word in the vocabulary.\n",
    "\n",
    "This method does not consider word order, grammar, or context - just the presence and frequency of each word in each document."
   ]
  },
  {
   "cell_type": "code",
   "execution_count": 10,
   "id": "c917a411-3071-4498-8679-54026209f930",
   "metadata": {},
   "outputs": [],
   "source": [
    "from sklearn.feature_extraction.text import CountVectorizer"
   ]
  },
  {
   "cell_type": "code",
   "execution_count": 11,
   "id": "7babe345-97b9-41df-8cf5-b2a02803630e",
   "metadata": {},
   "outputs": [
    {
     "data": {
      "text/plain": [
       "array([[1, 1, 1, 1, 1]], dtype=int64)"
      ]
     },
     "execution_count": 11,
     "metadata": {},
     "output_type": "execute_result"
    }
   ],
   "source": [
    "text_example = ['She is learning something new']\n",
    "\n",
    "vectorizer_sample = CountVectorizer()\n",
    "vectorizer_sample.fit(text_example)\n",
    "vectorizer_sample.transform(text_example).toarray() # As it creates sparse matrix"
   ]
  },
  {
   "cell_type": "code",
   "execution_count": 12,
   "id": "d7e7ad47-323b-44bf-931c-836884740276",
   "metadata": {},
   "outputs": [
    {
     "data": {
      "text/plain": [
       "array(['is', 'learning', 'new', 'she', 'something'], dtype=object)"
      ]
     },
     "execution_count": 12,
     "metadata": {},
     "output_type": "execute_result"
    }
   ],
   "source": [
    "vectorizer_sample.get_feature_names_out()"
   ]
  },
  {
   "cell_type": "markdown",
   "id": "4c25312e-bfa4-4830-a041-589b5919a90c",
   "metadata": {},
   "source": [
    "This states that each of these words appears only once. Let's try with another sentence."
   ]
  },
  {
   "cell_type": "code",
   "execution_count": 13,
   "id": "e25bed4a-7679-4176-ab6f-84e9bd3fbd99",
   "metadata": {},
   "outputs": [
    {
     "data": {
      "text/plain": [
       "array([[1, 1, 0, 0, 0]], dtype=int64)"
      ]
     },
     "execution_count": 13,
     "metadata": {},
     "output_type": "execute_result"
    }
   ],
   "source": [
    "text_example2 = ['He is learning to drive']\n",
    "vectorizer_sample.transform(text_example2).toarray()"
   ]
  },
  {
   "cell_type": "code",
   "execution_count": 14,
   "id": "bcbaa03a-e5bd-4a44-994d-ec914c09dc74",
   "metadata": {},
   "outputs": [
    {
     "data": {
      "text/plain": [
       "array(['is', 'learning', 'new', 'she', 'something'], dtype=object)"
      ]
     },
     "execution_count": 14,
     "metadata": {},
     "output_type": "execute_result"
    }
   ],
   "source": [
    "vectorizer_sample.get_feature_names_out()"
   ]
  },
  {
   "cell_type": "markdown",
   "id": "9aae5857-8823-40e4-8af3-b2dff81fb3b5",
   "metadata": {},
   "source": [
    "There is 1 for the words that the vectorizer has seen on fitting - is and learning - but the rest of the words are not seen by the vectorizer so its putting 0 in those places."
   ]
  },
  {
   "cell_type": "code",
   "execution_count": 15,
   "id": "ee26f165-faa6-4ae5-be81-e6f5984fcf99",
   "metadata": {},
   "outputs": [
    {
     "data": {
      "text/plain": [
       "array([[0, 0, 1, 1, 1, 1, 1, 0],\n",
       "       [1, 1, 1, 1, 0, 0, 0, 1]], dtype=int64)"
      ]
     },
     "execution_count": 15,
     "metadata": {},
     "output_type": "execute_result"
    }
   ],
   "source": [
    "# Now let's use fit_transform with two sentences\n",
    "\n",
    "text_example = ['She is learning something new', 'He is learning to drive']\n",
    "vectorizer_sample = CountVectorizer()\n",
    "vectorizer_sample.fit_transform(text_example).toarray()"
   ]
  },
  {
   "cell_type": "code",
   "execution_count": 16,
   "id": "a7b9716d-5417-43e8-98b8-132c8b277b9c",
   "metadata": {},
   "outputs": [
    {
     "data": {
      "text/plain": [
       "array(['drive', 'he', 'is', 'learning', 'new', 'she', 'something', 'to'],\n",
       "      dtype=object)"
      ]
     },
     "execution_count": 16,
     "metadata": {},
     "output_type": "execute_result"
    }
   ],
   "source": [
    "vectorizer_sample.get_feature_names_out()"
   ]
  },
  {
   "cell_type": "markdown",
   "id": "b853effd-aa75-4701-b67d-41925110db6b",
   "metadata": {},
   "source": [
    "This shows the vocabulary list has now expanded. Each row in the matrix corresponds to a sentence (or document), and each column corresponds to a word from the vocabulary. The numbers in the matrix indicate how many times each word appeared in each sentence."
   ]
  },
  {
   "cell_type": "markdown",
   "id": "261c85f0-5f93-4a89-af84-26bf8a0024eb",
   "metadata": {},
   "source": [
    "#### Splitting the dataset"
   ]
  },
  {
   "cell_type": "markdown",
   "id": "b4fc661e-4197-4beb-9655-6bfdfacedc57",
   "metadata": {},
   "source": [
    "Let's split the dataset into train and test set first"
   ]
  },
  {
   "cell_type": "code",
   "execution_count": 17,
   "id": "39f11f2a-a907-4fe2-bd98-af620d9ceab6",
   "metadata": {},
   "outputs": [],
   "source": [
    "from sklearn.model_selection import train_test_split"
   ]
  },
  {
   "cell_type": "code",
   "execution_count": 18,
   "id": "9d3d0f94-5aef-4396-8da9-08c8b8ecc559",
   "metadata": {},
   "outputs": [],
   "source": [
    "X = df['CONTENT']\n",
    "y = df['CLASS']\n",
    "\n",
    "x_train, x_test, y_train, y_test = train_test_split(X, y, \n",
    "                                                    test_size=0.1, \n",
    "                                                    random_state=42,\n",
    "                                                   stratify= y)  \n",
    "# Stratify is done so that equal portion of the target enters training and testing set"
   ]
  },
  {
   "cell_type": "code",
   "execution_count": 19,
   "id": "f6ac6929-54f1-493d-8747-177bb6cd3eb1",
   "metadata": {},
   "outputs": [
    {
     "data": {
      "text/plain": [
       "((1759,), (196,))"
      ]
     },
     "execution_count": 19,
     "metadata": {},
     "output_type": "execute_result"
    }
   ],
   "source": [
    "x_train.shape, x_test.shape"
   ]
  },
  {
   "cell_type": "code",
   "execution_count": 20,
   "id": "8ce76c2c-4378-4e82-b7d2-83dae46764d3",
   "metadata": {},
   "outputs": [
    {
     "data": {
      "text/plain": [
       "CLASS\n",
       "1    0.51336\n",
       "0    0.48664\n",
       "Name: proportion, dtype: float64"
      ]
     },
     "execution_count": 20,
     "metadata": {},
     "output_type": "execute_result"
    }
   ],
   "source": [
    "y_train.value_counts(normalize=True)  # Almost equally spread"
   ]
  },
  {
   "cell_type": "code",
   "execution_count": 21,
   "id": "f2adaac6-0409-4e42-ba2f-aa8da5ce1bee",
   "metadata": {},
   "outputs": [
    {
     "data": {
      "text/plain": [
       "CLASS\n",
       "1    0.515306\n",
       "0    0.484694\n",
       "Name: proportion, dtype: float64"
      ]
     },
     "execution_count": 21,
     "metadata": {},
     "output_type": "execute_result"
    }
   ],
   "source": [
    "y_test.value_counts(normalize=True)  # Almost equally spread"
   ]
  },
  {
   "cell_type": "markdown",
   "id": "ee3a84f3-9a98-470b-a763-fcf6065dcb33",
   "metadata": {},
   "source": [
    "#### Tokenizing the comments from our dataset using Vectorizer"
   ]
  },
  {
   "cell_type": "code",
   "execution_count": 22,
   "id": "6f907969-9946-49d0-927f-9a5af7c5586c",
   "metadata": {},
   "outputs": [
    {
     "data": {
      "text/plain": [
       "array([[0, 0, 0, ..., 0, 0, 0],\n",
       "       [0, 0, 0, ..., 0, 0, 0],\n",
       "       [0, 0, 0, ..., 0, 0, 0],\n",
       "       ...,\n",
       "       [0, 0, 0, ..., 0, 0, 0],\n",
       "       [0, 0, 0, ..., 0, 0, 0],\n",
       "       [0, 0, 0, ..., 0, 0, 0]], dtype=int64)"
      ]
     },
     "execution_count": 22,
     "metadata": {},
     "output_type": "execute_result"
    }
   ],
   "source": [
    "# Now getting started with vectorizer\n",
    "\n",
    "vectorizer = CountVectorizer()\n",
    "x_train_transformed = vectorizer.fit_transform(x_train)\n",
    "x_test_transformed = vectorizer.transform(x_test)\n",
    "x_train_transformed.toarray()"
   ]
  },
  {
   "cell_type": "code",
   "execution_count": 23,
   "id": "5a71aa03-f0b5-403b-8646-f0180fbf453c",
   "metadata": {},
   "outputs": [
    {
     "data": {
      "text/plain": [
       "(1759, 4210)"
      ]
     },
     "execution_count": 23,
     "metadata": {},
     "output_type": "execute_result"
    }
   ],
   "source": [
    "x_train_transformed.shape  # There are 1759 rows and 4210 columns which are actually the different words present in the vocabulary created\n"
   ]
  },
  {
   "cell_type": "code",
   "execution_count": 24,
   "id": "0a150d7a-4dfb-4e8b-8b26-9ed17ef81d0c",
   "metadata": {},
   "outputs": [
    {
     "data": {
      "text/plain": [
       "(196, 4210)"
      ]
     },
     "execution_count": 24,
     "metadata": {},
     "output_type": "execute_result"
    }
   ],
   "source": [
    "x_test_transformed.shape"
   ]
  },
  {
   "cell_type": "markdown",
   "id": "4e715c8f-f36c-4dae-aec8-43bc5593843d",
   "metadata": {},
   "source": [
    "#### Applying dataset to Model"
   ]
  },
  {
   "cell_type": "code",
   "execution_count": 25,
   "id": "2971a46d-bef4-4b1c-aced-427e409826ce",
   "metadata": {},
   "outputs": [
    {
     "data": {
      "text/html": [
       "<style>#sk-container-id-1 {\n",
       "  /* Definition of color scheme common for light and dark mode */\n",
       "  --sklearn-color-text: black;\n",
       "  --sklearn-color-line: gray;\n",
       "  /* Definition of color scheme for unfitted estimators */\n",
       "  --sklearn-color-unfitted-level-0: #fff5e6;\n",
       "  --sklearn-color-unfitted-level-1: #f6e4d2;\n",
       "  --sklearn-color-unfitted-level-2: #ffe0b3;\n",
       "  --sklearn-color-unfitted-level-3: chocolate;\n",
       "  /* Definition of color scheme for fitted estimators */\n",
       "  --sklearn-color-fitted-level-0: #f0f8ff;\n",
       "  --sklearn-color-fitted-level-1: #d4ebff;\n",
       "  --sklearn-color-fitted-level-2: #b3dbfd;\n",
       "  --sklearn-color-fitted-level-3: cornflowerblue;\n",
       "\n",
       "  /* Specific color for light theme */\n",
       "  --sklearn-color-text-on-default-background: var(--sg-text-color, var(--theme-code-foreground, var(--jp-content-font-color1, black)));\n",
       "  --sklearn-color-background: var(--sg-background-color, var(--theme-background, var(--jp-layout-color0, white)));\n",
       "  --sklearn-color-border-box: var(--sg-text-color, var(--theme-code-foreground, var(--jp-content-font-color1, black)));\n",
       "  --sklearn-color-icon: #696969;\n",
       "\n",
       "  @media (prefers-color-scheme: dark) {\n",
       "    /* Redefinition of color scheme for dark theme */\n",
       "    --sklearn-color-text-on-default-background: var(--sg-text-color, var(--theme-code-foreground, var(--jp-content-font-color1, white)));\n",
       "    --sklearn-color-background: var(--sg-background-color, var(--theme-background, var(--jp-layout-color0, #111)));\n",
       "    --sklearn-color-border-box: var(--sg-text-color, var(--theme-code-foreground, var(--jp-content-font-color1, white)));\n",
       "    --sklearn-color-icon: #878787;\n",
       "  }\n",
       "}\n",
       "\n",
       "#sk-container-id-1 {\n",
       "  color: var(--sklearn-color-text);\n",
       "}\n",
       "\n",
       "#sk-container-id-1 pre {\n",
       "  padding: 0;\n",
       "}\n",
       "\n",
       "#sk-container-id-1 input.sk-hidden--visually {\n",
       "  border: 0;\n",
       "  clip: rect(1px 1px 1px 1px);\n",
       "  clip: rect(1px, 1px, 1px, 1px);\n",
       "  height: 1px;\n",
       "  margin: -1px;\n",
       "  overflow: hidden;\n",
       "  padding: 0;\n",
       "  position: absolute;\n",
       "  width: 1px;\n",
       "}\n",
       "\n",
       "#sk-container-id-1 div.sk-dashed-wrapped {\n",
       "  border: 1px dashed var(--sklearn-color-line);\n",
       "  margin: 0 0.4em 0.5em 0.4em;\n",
       "  box-sizing: border-box;\n",
       "  padding-bottom: 0.4em;\n",
       "  background-color: var(--sklearn-color-background);\n",
       "}\n",
       "\n",
       "#sk-container-id-1 div.sk-container {\n",
       "  /* jupyter's `normalize.less` sets `[hidden] { display: none; }`\n",
       "     but bootstrap.min.css set `[hidden] { display: none !important; }`\n",
       "     so we also need the `!important` here to be able to override the\n",
       "     default hidden behavior on the sphinx rendered scikit-learn.org.\n",
       "     See: https://github.com/scikit-learn/scikit-learn/issues/21755 */\n",
       "  display: inline-block !important;\n",
       "  position: relative;\n",
       "}\n",
       "\n",
       "#sk-container-id-1 div.sk-text-repr-fallback {\n",
       "  display: none;\n",
       "}\n",
       "\n",
       "div.sk-parallel-item,\n",
       "div.sk-serial,\n",
       "div.sk-item {\n",
       "  /* draw centered vertical line to link estimators */\n",
       "  background-image: linear-gradient(var(--sklearn-color-text-on-default-background), var(--sklearn-color-text-on-default-background));\n",
       "  background-size: 2px 100%;\n",
       "  background-repeat: no-repeat;\n",
       "  background-position: center center;\n",
       "}\n",
       "\n",
       "/* Parallel-specific style estimator block */\n",
       "\n",
       "#sk-container-id-1 div.sk-parallel-item::after {\n",
       "  content: \"\";\n",
       "  width: 100%;\n",
       "  border-bottom: 2px solid var(--sklearn-color-text-on-default-background);\n",
       "  flex-grow: 1;\n",
       "}\n",
       "\n",
       "#sk-container-id-1 div.sk-parallel {\n",
       "  display: flex;\n",
       "  align-items: stretch;\n",
       "  justify-content: center;\n",
       "  background-color: var(--sklearn-color-background);\n",
       "  position: relative;\n",
       "}\n",
       "\n",
       "#sk-container-id-1 div.sk-parallel-item {\n",
       "  display: flex;\n",
       "  flex-direction: column;\n",
       "}\n",
       "\n",
       "#sk-container-id-1 div.sk-parallel-item:first-child::after {\n",
       "  align-self: flex-end;\n",
       "  width: 50%;\n",
       "}\n",
       "\n",
       "#sk-container-id-1 div.sk-parallel-item:last-child::after {\n",
       "  align-self: flex-start;\n",
       "  width: 50%;\n",
       "}\n",
       "\n",
       "#sk-container-id-1 div.sk-parallel-item:only-child::after {\n",
       "  width: 0;\n",
       "}\n",
       "\n",
       "/* Serial-specific style estimator block */\n",
       "\n",
       "#sk-container-id-1 div.sk-serial {\n",
       "  display: flex;\n",
       "  flex-direction: column;\n",
       "  align-items: center;\n",
       "  background-color: var(--sklearn-color-background);\n",
       "  padding-right: 1em;\n",
       "  padding-left: 1em;\n",
       "}\n",
       "\n",
       "\n",
       "/* Toggleable style: style used for estimator/Pipeline/ColumnTransformer box that is\n",
       "clickable and can be expanded/collapsed.\n",
       "- Pipeline and ColumnTransformer use this feature and define the default style\n",
       "- Estimators will overwrite some part of the style using the `sk-estimator` class\n",
       "*/\n",
       "\n",
       "/* Pipeline and ColumnTransformer style (default) */\n",
       "\n",
       "#sk-container-id-1 div.sk-toggleable {\n",
       "  /* Default theme specific background. It is overwritten whether we have a\n",
       "  specific estimator or a Pipeline/ColumnTransformer */\n",
       "  background-color: var(--sklearn-color-background);\n",
       "}\n",
       "\n",
       "/* Toggleable label */\n",
       "#sk-container-id-1 label.sk-toggleable__label {\n",
       "  cursor: pointer;\n",
       "  display: block;\n",
       "  width: 100%;\n",
       "  margin-bottom: 0;\n",
       "  padding: 0.5em;\n",
       "  box-sizing: border-box;\n",
       "  text-align: center;\n",
       "}\n",
       "\n",
       "#sk-container-id-1 label.sk-toggleable__label-arrow:before {\n",
       "  /* Arrow on the left of the label */\n",
       "  content: \"▸\";\n",
       "  float: left;\n",
       "  margin-right: 0.25em;\n",
       "  color: var(--sklearn-color-icon);\n",
       "}\n",
       "\n",
       "#sk-container-id-1 label.sk-toggleable__label-arrow:hover:before {\n",
       "  color: var(--sklearn-color-text);\n",
       "}\n",
       "\n",
       "/* Toggleable content - dropdown */\n",
       "\n",
       "#sk-container-id-1 div.sk-toggleable__content {\n",
       "  max-height: 0;\n",
       "  max-width: 0;\n",
       "  overflow: hidden;\n",
       "  text-align: left;\n",
       "  /* unfitted */\n",
       "  background-color: var(--sklearn-color-unfitted-level-0);\n",
       "}\n",
       "\n",
       "#sk-container-id-1 div.sk-toggleable__content.fitted {\n",
       "  /* fitted */\n",
       "  background-color: var(--sklearn-color-fitted-level-0);\n",
       "}\n",
       "\n",
       "#sk-container-id-1 div.sk-toggleable__content pre {\n",
       "  margin: 0.2em;\n",
       "  border-radius: 0.25em;\n",
       "  color: var(--sklearn-color-text);\n",
       "  /* unfitted */\n",
       "  background-color: var(--sklearn-color-unfitted-level-0);\n",
       "}\n",
       "\n",
       "#sk-container-id-1 div.sk-toggleable__content.fitted pre {\n",
       "  /* unfitted */\n",
       "  background-color: var(--sklearn-color-fitted-level-0);\n",
       "}\n",
       "\n",
       "#sk-container-id-1 input.sk-toggleable__control:checked~div.sk-toggleable__content {\n",
       "  /* Expand drop-down */\n",
       "  max-height: 200px;\n",
       "  max-width: 100%;\n",
       "  overflow: auto;\n",
       "}\n",
       "\n",
       "#sk-container-id-1 input.sk-toggleable__control:checked~label.sk-toggleable__label-arrow:before {\n",
       "  content: \"▾\";\n",
       "}\n",
       "\n",
       "/* Pipeline/ColumnTransformer-specific style */\n",
       "\n",
       "#sk-container-id-1 div.sk-label input.sk-toggleable__control:checked~label.sk-toggleable__label {\n",
       "  color: var(--sklearn-color-text);\n",
       "  background-color: var(--sklearn-color-unfitted-level-2);\n",
       "}\n",
       "\n",
       "#sk-container-id-1 div.sk-label.fitted input.sk-toggleable__control:checked~label.sk-toggleable__label {\n",
       "  background-color: var(--sklearn-color-fitted-level-2);\n",
       "}\n",
       "\n",
       "/* Estimator-specific style */\n",
       "\n",
       "/* Colorize estimator box */\n",
       "#sk-container-id-1 div.sk-estimator input.sk-toggleable__control:checked~label.sk-toggleable__label {\n",
       "  /* unfitted */\n",
       "  background-color: var(--sklearn-color-unfitted-level-2);\n",
       "}\n",
       "\n",
       "#sk-container-id-1 div.sk-estimator.fitted input.sk-toggleable__control:checked~label.sk-toggleable__label {\n",
       "  /* fitted */\n",
       "  background-color: var(--sklearn-color-fitted-level-2);\n",
       "}\n",
       "\n",
       "#sk-container-id-1 div.sk-label label.sk-toggleable__label,\n",
       "#sk-container-id-1 div.sk-label label {\n",
       "  /* The background is the default theme color */\n",
       "  color: var(--sklearn-color-text-on-default-background);\n",
       "}\n",
       "\n",
       "/* On hover, darken the color of the background */\n",
       "#sk-container-id-1 div.sk-label:hover label.sk-toggleable__label {\n",
       "  color: var(--sklearn-color-text);\n",
       "  background-color: var(--sklearn-color-unfitted-level-2);\n",
       "}\n",
       "\n",
       "/* Label box, darken color on hover, fitted */\n",
       "#sk-container-id-1 div.sk-label.fitted:hover label.sk-toggleable__label.fitted {\n",
       "  color: var(--sklearn-color-text);\n",
       "  background-color: var(--sklearn-color-fitted-level-2);\n",
       "}\n",
       "\n",
       "/* Estimator label */\n",
       "\n",
       "#sk-container-id-1 div.sk-label label {\n",
       "  font-family: monospace;\n",
       "  font-weight: bold;\n",
       "  display: inline-block;\n",
       "  line-height: 1.2em;\n",
       "}\n",
       "\n",
       "#sk-container-id-1 div.sk-label-container {\n",
       "  text-align: center;\n",
       "}\n",
       "\n",
       "/* Estimator-specific */\n",
       "#sk-container-id-1 div.sk-estimator {\n",
       "  font-family: monospace;\n",
       "  border: 1px dotted var(--sklearn-color-border-box);\n",
       "  border-radius: 0.25em;\n",
       "  box-sizing: border-box;\n",
       "  margin-bottom: 0.5em;\n",
       "  /* unfitted */\n",
       "  background-color: var(--sklearn-color-unfitted-level-0);\n",
       "}\n",
       "\n",
       "#sk-container-id-1 div.sk-estimator.fitted {\n",
       "  /* fitted */\n",
       "  background-color: var(--sklearn-color-fitted-level-0);\n",
       "}\n",
       "\n",
       "/* on hover */\n",
       "#sk-container-id-1 div.sk-estimator:hover {\n",
       "  /* unfitted */\n",
       "  background-color: var(--sklearn-color-unfitted-level-2);\n",
       "}\n",
       "\n",
       "#sk-container-id-1 div.sk-estimator.fitted:hover {\n",
       "  /* fitted */\n",
       "  background-color: var(--sklearn-color-fitted-level-2);\n",
       "}\n",
       "\n",
       "/* Specification for estimator info (e.g. \"i\" and \"?\") */\n",
       "\n",
       "/* Common style for \"i\" and \"?\" */\n",
       "\n",
       ".sk-estimator-doc-link,\n",
       "a:link.sk-estimator-doc-link,\n",
       "a:visited.sk-estimator-doc-link {\n",
       "  float: right;\n",
       "  font-size: smaller;\n",
       "  line-height: 1em;\n",
       "  font-family: monospace;\n",
       "  background-color: var(--sklearn-color-background);\n",
       "  border-radius: 1em;\n",
       "  height: 1em;\n",
       "  width: 1em;\n",
       "  text-decoration: none !important;\n",
       "  margin-left: 1ex;\n",
       "  /* unfitted */\n",
       "  border: var(--sklearn-color-unfitted-level-1) 1pt solid;\n",
       "  color: var(--sklearn-color-unfitted-level-1);\n",
       "}\n",
       "\n",
       ".sk-estimator-doc-link.fitted,\n",
       "a:link.sk-estimator-doc-link.fitted,\n",
       "a:visited.sk-estimator-doc-link.fitted {\n",
       "  /* fitted */\n",
       "  border: var(--sklearn-color-fitted-level-1) 1pt solid;\n",
       "  color: var(--sklearn-color-fitted-level-1);\n",
       "}\n",
       "\n",
       "/* On hover */\n",
       "div.sk-estimator:hover .sk-estimator-doc-link:hover,\n",
       ".sk-estimator-doc-link:hover,\n",
       "div.sk-label-container:hover .sk-estimator-doc-link:hover,\n",
       ".sk-estimator-doc-link:hover {\n",
       "  /* unfitted */\n",
       "  background-color: var(--sklearn-color-unfitted-level-3);\n",
       "  color: var(--sklearn-color-background);\n",
       "  text-decoration: none;\n",
       "}\n",
       "\n",
       "div.sk-estimator.fitted:hover .sk-estimator-doc-link.fitted:hover,\n",
       ".sk-estimator-doc-link.fitted:hover,\n",
       "div.sk-label-container:hover .sk-estimator-doc-link.fitted:hover,\n",
       ".sk-estimator-doc-link.fitted:hover {\n",
       "  /* fitted */\n",
       "  background-color: var(--sklearn-color-fitted-level-3);\n",
       "  color: var(--sklearn-color-background);\n",
       "  text-decoration: none;\n",
       "}\n",
       "\n",
       "/* Span, style for the box shown on hovering the info icon */\n",
       ".sk-estimator-doc-link span {\n",
       "  display: none;\n",
       "  z-index: 9999;\n",
       "  position: relative;\n",
       "  font-weight: normal;\n",
       "  right: .2ex;\n",
       "  padding: .5ex;\n",
       "  margin: .5ex;\n",
       "  width: min-content;\n",
       "  min-width: 20ex;\n",
       "  max-width: 50ex;\n",
       "  color: var(--sklearn-color-text);\n",
       "  box-shadow: 2pt 2pt 4pt #999;\n",
       "  /* unfitted */\n",
       "  background: var(--sklearn-color-unfitted-level-0);\n",
       "  border: .5pt solid var(--sklearn-color-unfitted-level-3);\n",
       "}\n",
       "\n",
       ".sk-estimator-doc-link.fitted span {\n",
       "  /* fitted */\n",
       "  background: var(--sklearn-color-fitted-level-0);\n",
       "  border: var(--sklearn-color-fitted-level-3);\n",
       "}\n",
       "\n",
       ".sk-estimator-doc-link:hover span {\n",
       "  display: block;\n",
       "}\n",
       "\n",
       "/* \"?\"-specific style due to the `<a>` HTML tag */\n",
       "\n",
       "#sk-container-id-1 a.estimator_doc_link {\n",
       "  float: right;\n",
       "  font-size: 1rem;\n",
       "  line-height: 1em;\n",
       "  font-family: monospace;\n",
       "  background-color: var(--sklearn-color-background);\n",
       "  border-radius: 1rem;\n",
       "  height: 1rem;\n",
       "  width: 1rem;\n",
       "  text-decoration: none;\n",
       "  /* unfitted */\n",
       "  color: var(--sklearn-color-unfitted-level-1);\n",
       "  border: var(--sklearn-color-unfitted-level-1) 1pt solid;\n",
       "}\n",
       "\n",
       "#sk-container-id-1 a.estimator_doc_link.fitted {\n",
       "  /* fitted */\n",
       "  border: var(--sklearn-color-fitted-level-1) 1pt solid;\n",
       "  color: var(--sklearn-color-fitted-level-1);\n",
       "}\n",
       "\n",
       "/* On hover */\n",
       "#sk-container-id-1 a.estimator_doc_link:hover {\n",
       "  /* unfitted */\n",
       "  background-color: var(--sklearn-color-unfitted-level-3);\n",
       "  color: var(--sklearn-color-background);\n",
       "  text-decoration: none;\n",
       "}\n",
       "\n",
       "#sk-container-id-1 a.estimator_doc_link.fitted:hover {\n",
       "  /* fitted */\n",
       "  background-color: var(--sklearn-color-fitted-level-3);\n",
       "}\n",
       "</style><div id=\"sk-container-id-1\" class=\"sk-top-container\"><div class=\"sk-text-repr-fallback\"><pre>MultinomialNB()</pre><b>In a Jupyter environment, please rerun this cell to show the HTML representation or trust the notebook. <br />On GitHub, the HTML representation is unable to render, please try loading this page with nbviewer.org.</b></div><div class=\"sk-container\" hidden><div class=\"sk-item\"><div class=\"sk-estimator fitted sk-toggleable\"><input class=\"sk-toggleable__control sk-hidden--visually\" id=\"sk-estimator-id-1\" type=\"checkbox\" checked><label for=\"sk-estimator-id-1\" class=\"sk-toggleable__label fitted sk-toggleable__label-arrow fitted\">&nbsp;&nbsp;MultinomialNB<a class=\"sk-estimator-doc-link fitted\" rel=\"noreferrer\" target=\"_blank\" href=\"https://scikit-learn.org/1.5/modules/generated/sklearn.naive_bayes.MultinomialNB.html\">?<span>Documentation for MultinomialNB</span></a><span class=\"sk-estimator-doc-link fitted\">i<span>Fitted</span></span></label><div class=\"sk-toggleable__content fitted\"><pre>MultinomialNB()</pre></div> </div></div></div></div>"
      ],
      "text/plain": [
       "MultinomialNB()"
      ]
     },
     "execution_count": 25,
     "metadata": {},
     "output_type": "execute_result"
    }
   ],
   "source": [
    "from sklearn.naive_bayes import MultinomialNB\n",
    "# Since our dataset is textual and the classes are roughly balanced\n",
    "\n",
    "clf = MultinomialNB()\n",
    "clf.fit(x_train_transformed, y_train)"
   ]
  },
  {
   "cell_type": "code",
   "execution_count": 26,
   "id": "5bd70bff-e80a-46d6-99e6-344e4bec8a13",
   "metadata": {},
   "outputs": [
    {
     "data": {
      "text/plain": [
       "{'alpha': 1.0, 'class_prior': None, 'fit_prior': True, 'force_alpha': True}"
      ]
     },
     "execution_count": 26,
     "metadata": {},
     "output_type": "execute_result"
    }
   ],
   "source": [
    "clf.get_params()"
   ]
  },
  {
   "cell_type": "markdown",
   "id": "a81700a1-c3e7-41b6-8a49-2239c79e4226",
   "metadata": {},
   "source": [
    "* **alpha (1.0)**: This is the smoothing parameter (Laplace smoothing). It prevents zero probabilities for words not seen in training data. A value of 1.0 means standard Laplace smoothing is applied.\n",
    "\n",
    "* **class\\_prior (None)**: This indicates no manual prior probabilities for classes are provided. The priors will be learned from the training data.\n",
    "\n",
    "* **fit\\_prior (True)**: This means the model will estimate class prior probabilities from the training data rather than assuming them to be uniform.\n",
    "\n",
    "* **force\\_alpha (True)**: Ensures that smoothing (alpha) is applied even when alpha is set to zero, maintaining numerical stability.\n",
    "\n",
    "These parameters control how the Multinomial Naive Bayes model learns and applies probabilities.\n"
   ]
  },
  {
   "cell_type": "code",
   "execution_count": 27,
   "id": "85c07b2b-ecde-49c9-b7b4-c611038b32be",
   "metadata": {},
   "outputs": [
    {
     "data": {
      "text/plain": [
       "array([0.48664014, 0.51335986])"
      ]
     },
     "execution_count": 27,
     "metadata": {},
     "output_type": "execute_result"
    }
   ],
   "source": [
    "np.exp(clf.class_log_prior_)"
   ]
  },
  {
   "cell_type": "markdown",
   "id": "029afb78-ff62-4b5a-a393-cc3d0d9e035e",
   "metadata": {},
   "source": [
    "Here we are taking the log prior probabilities of each class from a trained Naive Bayes classifier (clf.class_log_prior_), and applying the exponential function to convert them back from log space to regular probability space.\n",
    "\n",
    "This tells us the model has learned the following class prior probabilities:\n",
    "* Probability of class 0 (e.g., \"ham\") = 48.66%\n",
    "* Probability of class 1 (e.g., \"spam\") = 51.34%\n",
    "\n",
    "These priors are computed from the training data, assuming fit_prior=True, and they reflect the class distribution observed in the training set."
   ]
  },
  {
   "cell_type": "code",
   "execution_count": 28,
   "id": "2c40fd56-735e-4e8e-a7ed-e5badc6f9c14",
   "metadata": {},
   "outputs": [],
   "source": [
    "predictions = clf.predict(x_test_transformed)"
   ]
  },
  {
   "cell_type": "markdown",
   "id": "5df7d927-116a-40d2-b59d-c2caee053faa",
   "metadata": {},
   "source": [
    "#### Evaluating the model"
   ]
  },
  {
   "cell_type": "code",
   "execution_count": 29,
   "id": "c8af1db5-bb1e-494f-a19f-a9a76e44242a",
   "metadata": {},
   "outputs": [],
   "source": [
    "from sklearn.metrics import confusion_matrix, ConfusionMatrixDisplay"
   ]
  },
  {
   "cell_type": "code",
   "execution_count": 30,
   "id": "bdceae5d-9467-4cab-9ee0-aa3538d2ea6a",
   "metadata": {},
   "outputs": [
    {
     "name": "stdout",
     "output_type": "stream",
     "text": [
      "[[82  6]\n",
      " [13 95]]\n"
     ]
    }
   ],
   "source": [
    "print(confusion_matrix(predictions, y_test))"
   ]
  },
  {
   "cell_type": "code",
   "execution_count": 31,
   "id": "5e1d7e98-c034-47ff-a5b6-95694d31cb90",
   "metadata": {},
   "outputs": [
    {
     "data": {
      "image/png": "[encoded data removed]",
      "text/plain": [
       "<Figure size 640x480 with 2 Axes>"
      ]
     },
     "metadata": {},
     "output_type": "display_data"
    }
   ],
   "source": [
    "ConfusionMatrixDisplay.from_predictions(\n",
    "    predictions, y_test,\n",
    "    labels = clf.classes_,\n",
    "    cmap = 'magma'\n",
    ");"
   ]
  },
  {
   "cell_type": "markdown",
   "id": "473ec4b5-da24-43df-838d-9f17b5658e64",
   "metadata": {},
   "source": [
    "* **82**: **True Negatives (TN)** - actual class is 0, predicted as 0\n",
    "* **6**: **False Positives (FP)** - actual class is 0, predicted as 1 (These are also called **Type 1 errors**).\n",
    "* **13**: **False Negatives (FN)** - actual class is 1, predicted as 0 (These are also called **Type 2 errors**).\n",
    "* **95**: **True Positives (TP)** - actual class is 1, predicted as 1\n",
    "\n",
    "Thus, TP is 95 which are correctly predicted class 1. TN is 82 which are correctly predicted class 0. FP is 6 where predicted class 1 but actually class 0. FN is 13 where predicted class 0 but actually class 1. So, the model made **177 correct predictions** (82 + 95) and **19 incorrect ones** (6 + 13).\n"
   ]
  },
  {
   "cell_type": "markdown",
   "id": "972940e1-e869-40f8-a950-726bf6bbae3e",
   "metadata": {},
   "source": [
    "Let's try with different other evaluation metrics - "
   ]
  },
  {
   "cell_type": "code",
   "execution_count": 32,
   "id": "6541afc4-f942-4f07-9736-d7c746d3f808",
   "metadata": {},
   "outputs": [],
   "source": [
    "from sklearn.metrics import classification_report"
   ]
  },
  {
   "cell_type": "code",
   "execution_count": 33,
   "id": "d5681860-1a4d-466a-9cc7-13279b14b137",
   "metadata": {},
   "outputs": [
    {
     "name": "stdout",
     "output_type": "stream",
     "text": [
      "              precision    recall  f1-score   support\n",
      "\n",
      "         Ham       0.86      0.93      0.90        88\n",
      "        Spam       0.94      0.88      0.91       108\n",
      "\n",
      "    accuracy                           0.90       196\n",
      "   macro avg       0.90      0.91      0.90       196\n",
      "weighted avg       0.91      0.90      0.90       196\n",
      "\n"
     ]
    }
   ],
   "source": [
    "print(classification_report(predictions, y_test,\n",
    "                           target_names=['Ham', 'Spam']))"
   ]
  },
  {
   "cell_type": "markdown",
   "id": "fda383e4-d95a-489e-9afa-b45d1b19e644",
   "metadata": {},
   "source": [
    "#### Creating probability distribution figure"
   ]
  },
  {
   "cell_type": "code",
   "execution_count": 34,
   "id": "6610a0ed-2997-4117-8490-22453a3f6675",
   "metadata": {},
   "outputs": [
    {
     "data": {
      "image/png": "[encoded data removed]",
      "text/plain": [
       "<Figure size 1200x500 with 2 Axes>"
      ]
     },
     "metadata": {},
     "output_type": "display_data"
    }
   ],
   "source": [
    "spam_proba = clf.predict_proba(x_test_transformed).round(3)[:,1];\n",
    "\n",
    "df_scatter = pd.DataFrame()\n",
    "\n",
    "df_scatter['True class'] = y_test\n",
    "df_scatter['Predicted class'] = predictions\n",
    "df_scatter['Predicted probability (spam)'] = spam_proba\n",
    "\n",
    "df_scatter = df_scatter.reset_index(drop = True)\n",
    "\n",
    "palette_0 = sns.color_palette(['#000000'])\n",
    "palette_1 = sns.color_palette(['#FF0000'])\n",
    "\n",
    "df_scatter_0 = df_scatter[df_scatter['True class'] == 0].reset_index(drop = True)\n",
    "df_scatter_1 = df_scatter[df_scatter['True class'] == 1].reset_index(drop = True)\n",
    "\n",
    "sns.set()\n",
    "\n",
    "fig, (ax1,ax2) = plt.subplots(2,1, figsize=(12,5))\n",
    "fig.tight_layout(pad = 3)\n",
    "\n",
    "sns.scatterplot(x = 'Predicted probability (spam)', \n",
    "                y = np.zeros(df_scatter_0.shape[0]), \n",
    "                data = df_scatter_0,\n",
    "                hue = 'True class', \n",
    "                s = 50,\n",
    "                markers = ['o'],\n",
    "                palette = palette_0,\n",
    "                style = 'True class',\n",
    "                legend = False, \n",
    "                ax = ax1).set(yticklabels=[])\n",
    "\n",
    "ax1.set_title('Probability distribution of comments belonging to the true \\'ham\\' class')\n",
    "ax1.vlines(0.5, -1, 1, linestyles = 'dashed', colors = 'red');\n",
    "\n",
    "\n",
    "sns.scatterplot(x = 'Predicted probability (spam)', \n",
    "                y = np.zeros(df_scatter_1.shape[0]), \n",
    "                hue = 'True class', \n",
    "                data = df_scatter_1,\n",
    "                s = 50,\n",
    "                palette = palette_1,\n",
    "                markers = ['X'],\n",
    "                style = 'True class',\n",
    "                legend = False, \n",
    "                ax = ax2).set(yticklabels=[])\n",
    "\n",
    "ax2.set_title('Probability distribution of comments belonging to the true \\'spam\\' class')\n",
    "\n",
    "ax2.vlines(0.5, -1, 1, linestyles = 'dashed', colors = 'red');"
   ]
  },
  {
   "cell_type": "markdown",
   "id": "7d95b149-9165-4572-a880-82b23aafe62b",
   "metadata": {},
   "source": [
    "#### Optimizing Model"
   ]
  },
  {
   "cell_type": "markdown",
   "id": "af3ac2a7-fc45-458c-88f2-8973d69c22c9",
   "metadata": {},
   "source": [
    "Here we will use -\n",
    "    \n",
    "clf = MultinomialNB(class_prior=np.array([0.6, 0.4]))\n",
    "\n",
    "This line creates a Multinomial Naive Bayes classifier with manually specified class prior probabilities:\n",
    "* It sets the prior probability for **class 0** to **0.6** (60%)\n",
    "* It sets the prior probability for **class 1** to **0.4** (40%)\n",
    "\n",
    "The key difference is that the class prior is explicitly defined by the user instead of being inferred from the training data* which is what happens by default. If `fit_prior=True` and `class_prior=None` (the default behavior), then the classifier automatically calculates the priors from the training data based on the frequency of each class.\n",
    "\n",
    "By setting `class_prior=np.array([0.6, 0.4])`, we override the learned class distribution and force the model to assume that Class 0 is more likely by prior belief, regardless of the actual distribution in training data.\n",
    "\n",
    "**This Can Change Results:**\n",
    "\n",
    "* **Bias Introduction**: If the actual class distribution in the data is different (say, 50-50), then assigning a 60-40 prior introduces bias toward class 0.\n",
    "* **Prediction Shifts**: During prediction, Bayes' theorem multiplies the likelihood by the prior. A higher prior for class 0 can cause more test samples to be classified as class 0, even if their features slightly favor class 1.\n",
    "* **Useful in Imbalanced or Domain-Specific Contexts**: This can be intentional and beneficial if you already know from external knowledge that one class is inherently more common or important, even if your training data doesn’t reflect that.\n",
    "\n",
    "This line adds manual control over class bias in the model, which can significantly alter classification outcomes.\n"
   ]
  },
  {
   "cell_type": "code",
   "execution_count": 35,
   "id": "7e8e4196-a4ab-412a-b554-d20d8a109bb2",
   "metadata": {},
   "outputs": [
    {
     "data": {
      "image/png": "[encoded data removed]",
      "text/plain": [
       "<Figure size 640x480 with 2 Axes>"
      ]
     },
     "metadata": {},
     "output_type": "display_data"
    }
   ],
   "source": [
    "# Let's try using different hyperparameters\n",
    "\n",
    "clf = MultinomialNB(class_prior= np.array([0.6, 0.4]))\n",
    "clf.fit(x_train_transformed, y_train)\n",
    "prediction_new = clf.predict(x_test_transformed)\n",
    "\n",
    "ConfusionMatrixDisplay.from_predictions(\n",
    "    prediction_new, y_test,\n",
    "    labels = clf.classes_,\n",
    "    cmap = 'magma'\n",
    ");"
   ]
  },
  {
   "cell_type": "markdown",
   "id": "7858b2b2-9e8b-4024-8f9a-019e5aebf385",
   "metadata": {},
   "source": [
    "Thus, we see more classes are correctly labelled than previous model. "
   ]
  },
  {
   "cell_type": "code",
   "execution_count": 36,
   "id": "0843d4d4-ca1e-45e3-b6bb-a8a07017239a",
   "metadata": {},
   "outputs": [
    {
     "name": "stdout",
     "output_type": "stream",
     "text": [
      "              precision    recall  f1-score   support\n",
      "\n",
      "         Ham       0.93      0.94      0.93        94\n",
      "        Spam       0.94      0.93      0.94       102\n",
      "\n",
      "    accuracy                           0.93       196\n",
      "   macro avg       0.93      0.93      0.93       196\n",
      "weighted avg       0.93      0.93      0.93       196\n",
      "\n"
     ]
    }
   ],
   "source": [
    "print(classification_report(prediction_new, y_test,\n",
    "                           target_names=['Ham', 'Spam']))"
   ]
  },
  {
   "cell_type": "markdown",
   "id": "4c82ddd1-ab53-4bd9-ac75-2d58bb0ae579",
   "metadata": {},
   "source": [
    "#### Creating probability distribution figure"
   ]
  },
  {
   "cell_type": "code",
   "execution_count": 37,
   "id": "735a8816-f1ef-493d-9c84-1af992bb7ba4",
   "metadata": {},
   "outputs": [
    {
     "data": {
      "image/png": "[encoded data removed]",
      "text/plain": [
       "<Figure size 1200x500 with 2 Axes>"
      ]
     },
     "metadata": {},
     "output_type": "display_data"
    }
   ],
   "source": [
    "spam_proba = clf.predict_proba(x_test_transformed).round(3)[:,1];\n",
    "\n",
    "df_scatter = pd.DataFrame()\n",
    "\n",
    "df_scatter['True class'] = y_test\n",
    "df_scatter['Predicted class'] = prediction_new\n",
    "df_scatter['Predicted probability (spam)'] = spam_proba\n",
    "\n",
    "df_scatter = df_scatter.reset_index(drop = True)\n",
    "\n",
    "palette_0 = sns.color_palette(['#000000'])\n",
    "palette_1 = sns.color_palette(['#FF0000'])\n",
    "\n",
    "df_scatter_0 = df_scatter[df_scatter['True class'] == 0].reset_index(drop = True)\n",
    "df_scatter_1 = df_scatter[df_scatter['True class'] == 1].reset_index(drop = True)\n",
    "\n",
    "sns.set()\n",
    "\n",
    "fig, (ax1,ax2) = plt.subplots(2,1, figsize=(12,5))\n",
    "fig.tight_layout(pad = 3)\n",
    "\n",
    "sns.scatterplot(x = 'Predicted probability (spam)', \n",
    "                y = np.zeros(df_scatter_0.shape[0]), \n",
    "                data = df_scatter_0,\n",
    "                hue = 'True class', \n",
    "                s = 50,\n",
    "                markers = ['o'],\n",
    "                palette = palette_0,\n",
    "                style = 'True class',\n",
    "                legend = False, \n",
    "                ax = ax1).set(yticklabels=[])\n",
    "\n",
    "ax1.set_title('Probability distribution of comments belonging to the true \\'ham\\' class')\n",
    "ax1.vlines(0.5, -1, 1, linestyles = 'dashed', colors = 'red');\n",
    "\n",
    "\n",
    "sns.scatterplot(x = 'Predicted probability (spam)', \n",
    "                y = np.zeros(df_scatter_1.shape[0]), \n",
    "                hue = 'True class', \n",
    "                data = df_scatter_1,\n",
    "                s = 50,\n",
    "                palette = palette_1,\n",
    "                markers = ['X'],\n",
    "                style = 'True class',\n",
    "                legend = False, \n",
    "                ax = ax2).set(yticklabels=[])\n",
    "\n",
    "ax2.set_title('Probability distribution of comments belonging to the true \\'spam\\' class')\n",
    "\n",
    "ax2.vlines(0.5, -1, 1, linestyles = 'dashed', colors = 'red');"
   ]
  },
  {
   "cell_type": "markdown",
   "id": "cd356dc3-71fb-4415-8010-c56036d3cf1b",
   "metadata": {},
   "source": [
    "#### Data Prediction using Unknown Data"
   ]
  },
  {
   "cell_type": "code",
   "execution_count": 38,
   "id": "0f1d89b8-5627-4156-8780-e52c29ee9b42",
   "metadata": {},
   "outputs": [
    {
     "data": {
      "text/plain": [
       "array([0, 1], dtype=int64)"
      ]
     },
     "execution_count": 38,
     "metadata": {},
     "output_type": "execute_result"
    }
   ],
   "source": [
    "predict_data = vectorizer.transform(['This song is amazing!',\n",
    "                                     'You can win 1m dollars right now, just click here!!!'])\n",
    "\n",
    "clf.predict(predict_data)"
   ]
  },
  {
   "cell_type": "markdown",
   "id": "cfb0fd99-6365-4066-8372-d77a42a62697",
   "metadata": {},
   "source": [
    "The comments are correctly classified!"
   ]
  },
  {
   "cell_type": "code",
   "execution_count": null,
   "id": "e51c7399-1a87-4fa9-b133-4b02f23e2ed5",
   "metadata": {},
   "outputs": [],
   "source": []
  }
 ],
 "metadata": {
  "kernelspec": {
   "display_name": "Python 3 (ipykernel)",
   "language": "python",
   "name": "python3"
  },
  "language_info": {
   "codemirror_mode": {
    "name": "ipython",
    "version": 3
   },
   "file_extension": ".py",
   "mimetype": "text/x-python",
   "name": "python",
   "nbconvert_exporter": "python",
   "pygments_lexer": "ipython3",
   "version": "3.10.8"
  }
 },
 "nbformat": 4,
 "nbformat_minor": 5
}
